{
 "cells": [
  {
   "cell_type": "code",
   "execution_count": 1,
   "id": "9325edb2",
   "metadata": {},
   "outputs": [],
   "source": [
    "import pandas as pd\n",
    "import matplotlib.pyplot as plt\n",
    "plt.style.use('ggplot')"
   ]
  },
  {
   "cell_type": "code",
   "execution_count": 2,
   "id": "1ea522e2",
   "metadata": {},
   "outputs": [],
   "source": [
    "data = pd.read_excel(r\"C:\\Users\\atdal\\Downloads\\Dataset3.xlsx\")"
   ]
  },
  {
   "cell_type": "markdown",
   "id": "4465e79d",
   "metadata": {},
   "source": [
    "## Base de dados"
   ]
  },
  {
   "cell_type": "code",
   "execution_count": 3,
   "id": "eabddd2d",
   "metadata": {
    "scrolled": false
   },
   "outputs": [
    {
     "data": {
      "text/html": [
       "<div>\n",
       "<style scoped>\n",
       "    .dataframe tbody tr th:only-of-type {\n",
       "        vertical-align: middle;\n",
       "    }\n",
       "\n",
       "    .dataframe tbody tr th {\n",
       "        vertical-align: top;\n",
       "    }\n",
       "\n",
       "    .dataframe thead th {\n",
       "        text-align: right;\n",
       "    }\n",
       "</style>\n",
       "<table border=\"1\" class=\"dataframe\">\n",
       "  <thead>\n",
       "    <tr style=\"text-align: right;\">\n",
       "      <th></th>\n",
       "      <th>No</th>\n",
       "      <th>Country</th>\n",
       "      <th>Level of development</th>\n",
       "      <th>European Union Membership</th>\n",
       "      <th>Currency</th>\n",
       "      <th>Women Entrepreneurship Index</th>\n",
       "      <th>Entrepreneurship Index</th>\n",
       "      <th>Inflation rate</th>\n",
       "      <th>Female Labor Force Participation Rate</th>\n",
       "    </tr>\n",
       "  </thead>\n",
       "  <tbody>\n",
       "    <tr>\n",
       "      <th>0</th>\n",
       "      <td>4</td>\n",
       "      <td>Austria</td>\n",
       "      <td>Developed</td>\n",
       "      <td>Member</td>\n",
       "      <td>Euro</td>\n",
       "      <td>54.9</td>\n",
       "      <td>64.9</td>\n",
       "      <td>0.9</td>\n",
       "      <td>67.1</td>\n",
       "    </tr>\n",
       "    <tr>\n",
       "      <th>1</th>\n",
       "      <td>6</td>\n",
       "      <td>Belgium</td>\n",
       "      <td>Developed</td>\n",
       "      <td>Member</td>\n",
       "      <td>Euro</td>\n",
       "      <td>63.6</td>\n",
       "      <td>65.5</td>\n",
       "      <td>0.6</td>\n",
       "      <td>58.0</td>\n",
       "    </tr>\n",
       "  </tbody>\n",
       "</table>\n",
       "</div>"
      ],
      "text/plain": [
       "   No  Country Level of development European Union Membership Currency  \\\n",
       "0   4  Austria            Developed                    Member     Euro   \n",
       "1   6  Belgium            Developed                    Member     Euro   \n",
       "\n",
       "   Women Entrepreneurship Index  Entrepreneurship Index  Inflation rate  \\\n",
       "0                          54.9                    64.9             0.9   \n",
       "1                          63.6                    65.5             0.6   \n",
       "\n",
       "   Female Labor Force Participation Rate  \n",
       "0                                   67.1  \n",
       "1                                   58.0  "
      ]
     },
     "execution_count": 3,
     "metadata": {},
     "output_type": "execute_result"
    }
   ],
   "source": [
    "data.head(2)"
   ]
  },
  {
   "cell_type": "markdown",
   "id": "9be5d581",
   "metadata": {},
   "source": [
    "#### Dummy variables"
   ]
  },
  {
   "cell_type": "code",
   "execution_count": 4,
   "id": "6c78603e",
   "metadata": {},
   "outputs": [],
   "source": [
    "data.loc[:,('Currency')] = data['Currency'].map(lambda x: 1 if x == 'Euro' else 0)\n",
    "data.loc[:,('European Union Membership')] = data['European Union Membership'].map(lambda x: 1 if x == 'Member' else 0)\n",
    "data.loc[:,('Level of development')] = data['Level of development'].map(lambda x: 1 if x == 'Developed' else 0)"
   ]
  },
  {
   "cell_type": "markdown",
   "id": "35be3a9d",
   "metadata": {},
   "source": [
    "#### Matriz de correlação"
   ]
  },
  {
   "cell_type": "code",
   "execution_count": 5,
   "id": "e9af2d85",
   "metadata": {
    "scrolled": true
   },
   "outputs": [
    {
     "data": {
      "text/html": [
       "<div>\n",
       "<style scoped>\n",
       "    .dataframe tbody tr th:only-of-type {\n",
       "        vertical-align: middle;\n",
       "    }\n",
       "\n",
       "    .dataframe tbody tr th {\n",
       "        vertical-align: top;\n",
       "    }\n",
       "\n",
       "    .dataframe thead th {\n",
       "        text-align: right;\n",
       "    }\n",
       "</style>\n",
       "<table border=\"1\" class=\"dataframe\">\n",
       "  <thead>\n",
       "    <tr style=\"text-align: right;\">\n",
       "      <th></th>\n",
       "      <th>Level of development</th>\n",
       "      <th>European Union Membership</th>\n",
       "      <th>Currency</th>\n",
       "      <th>Women Entrepreneurship Index</th>\n",
       "      <th>Entrepreneurship Index</th>\n",
       "      <th>Inflation rate</th>\n",
       "      <th>Female Labor Force Participation Rate</th>\n",
       "    </tr>\n",
       "  </thead>\n",
       "  <tbody>\n",
       "    <tr>\n",
       "      <th>Level of development</th>\n",
       "      <td>1.000000</td>\n",
       "      <td>0.757282</td>\n",
       "      <td>0.608581</td>\n",
       "      <td>0.865168</td>\n",
       "      <td>0.809970</td>\n",
       "      <td>-0.512364</td>\n",
       "      <td>0.356474</td>\n",
       "    </tr>\n",
       "    <tr>\n",
       "      <th>European Union Membership</th>\n",
       "      <td>0.757282</td>\n",
       "      <td>1.000000</td>\n",
       "      <td>0.803638</td>\n",
       "      <td>0.625371</td>\n",
       "      <td>0.481864</td>\n",
       "      <td>-0.416360</td>\n",
       "      <td>0.181569</td>\n",
       "    </tr>\n",
       "    <tr>\n",
       "      <th>Currency</th>\n",
       "      <td>0.608581</td>\n",
       "      <td>0.803638</td>\n",
       "      <td>1.000000</td>\n",
       "      <td>0.491834</td>\n",
       "      <td>0.415157</td>\n",
       "      <td>-0.333552</td>\n",
       "      <td>0.110886</td>\n",
       "    </tr>\n",
       "    <tr>\n",
       "      <th>Women Entrepreneurship Index</th>\n",
       "      <td>0.865168</td>\n",
       "      <td>0.625371</td>\n",
       "      <td>0.491834</td>\n",
       "      <td>1.000000</td>\n",
       "      <td>0.914580</td>\n",
       "      <td>-0.455532</td>\n",
       "      <td>0.441372</td>\n",
       "    </tr>\n",
       "    <tr>\n",
       "      <th>Entrepreneurship Index</th>\n",
       "      <td>0.809970</td>\n",
       "      <td>0.481864</td>\n",
       "      <td>0.415157</td>\n",
       "      <td>0.914580</td>\n",
       "      <td>1.000000</td>\n",
       "      <td>-0.395370</td>\n",
       "      <td>0.334170</td>\n",
       "    </tr>\n",
       "    <tr>\n",
       "      <th>Inflation rate</th>\n",
       "      <td>-0.512364</td>\n",
       "      <td>-0.416360</td>\n",
       "      <td>-0.333552</td>\n",
       "      <td>-0.455532</td>\n",
       "      <td>-0.395370</td>\n",
       "      <td>1.000000</td>\n",
       "      <td>-0.139802</td>\n",
       "    </tr>\n",
       "    <tr>\n",
       "      <th>Female Labor Force Participation Rate</th>\n",
       "      <td>0.356474</td>\n",
       "      <td>0.181569</td>\n",
       "      <td>0.110886</td>\n",
       "      <td>0.441372</td>\n",
       "      <td>0.334170</td>\n",
       "      <td>-0.139802</td>\n",
       "      <td>1.000000</td>\n",
       "    </tr>\n",
       "  </tbody>\n",
       "</table>\n",
       "</div>"
      ],
      "text/plain": [
       "                                       Level of development  \\\n",
       "Level of development                               1.000000   \n",
       "European Union Membership                          0.757282   \n",
       "Currency                                           0.608581   \n",
       "Women Entrepreneurship Index                       0.865168   \n",
       "Entrepreneurship Index                             0.809970   \n",
       "Inflation rate                                    -0.512364   \n",
       "Female Labor Force Participation Rate              0.356474   \n",
       "\n",
       "                                       European Union Membership  Currency  \\\n",
       "Level of development                                    0.757282  0.608581   \n",
       "European Union Membership                               1.000000  0.803638   \n",
       "Currency                                                0.803638  1.000000   \n",
       "Women Entrepreneurship Index                            0.625371  0.491834   \n",
       "Entrepreneurship Index                                  0.481864  0.415157   \n",
       "Inflation rate                                         -0.416360 -0.333552   \n",
       "Female Labor Force Participation Rate                   0.181569  0.110886   \n",
       "\n",
       "                                       Women Entrepreneurship Index  \\\n",
       "Level of development                                       0.865168   \n",
       "European Union Membership                                  0.625371   \n",
       "Currency                                                   0.491834   \n",
       "Women Entrepreneurship Index                               1.000000   \n",
       "Entrepreneurship Index                                     0.914580   \n",
       "Inflation rate                                            -0.455532   \n",
       "Female Labor Force Participation Rate                      0.441372   \n",
       "\n",
       "                                       Entrepreneurship Index  Inflation rate  \\\n",
       "Level of development                                 0.809970       -0.512364   \n",
       "European Union Membership                            0.481864       -0.416360   \n",
       "Currency                                             0.415157       -0.333552   \n",
       "Women Entrepreneurship Index                         0.914580       -0.455532   \n",
       "Entrepreneurship Index                               1.000000       -0.395370   \n",
       "Inflation rate                                      -0.395370        1.000000   \n",
       "Female Labor Force Participation Rate                0.334170       -0.139802   \n",
       "\n",
       "                                       Female Labor Force Participation Rate  \n",
       "Level of development                                                0.356474  \n",
       "European Union Membership                                           0.181569  \n",
       "Currency                                                            0.110886  \n",
       "Women Entrepreneurship Index                                        0.441372  \n",
       "Entrepreneurship Index                                              0.334170  \n",
       "Inflation rate                                                     -0.139802  \n",
       "Female Labor Force Participation Rate                               1.000000  "
      ]
     },
     "execution_count": 5,
     "metadata": {},
     "output_type": "execute_result"
    }
   ],
   "source": [
    "data.drop('No',axis = 1).corr() "
   ]
  },
  {
   "cell_type": "markdown",
   "id": "223b2f6d",
   "metadata": {},
   "source": [
    "### Figura 1: Nível de Desenvolvimento e Nível de Empreendedorismo Feminino"
   ]
  },
  {
   "cell_type": "code",
   "execution_count": 6,
   "id": "75267da7",
   "metadata": {
    "scrolled": false
   },
   "outputs": [
    {
     "data": {
      "image/png": "[encoded data removed]",
      "text/plain": [
       "<Figure size 432x288 with 1 Axes>"
      ]
     },
     "metadata": {},
     "output_type": "display_data"
    }
   ],
   "source": [
    "wei_developing = data[data['Level of development'] == 0]['Women Entrepreneurship Index'].to_list()\n",
    "wei_developed = data[data['Level of development'] == 1]['Women Entrepreneurship Index'].to_list()\n",
    "dados = [wei_developing,wei_developed]\n",
    "fig, ax = plt.subplots()\n",
    "box = ax.boxplot(dados,labels = ['Em desenvolvimento','Desenvolvidos'], patch_artist= True)\n",
    "ax.set_title('Figura 1: Nível de Desenvolvimento e\\n o Nível de Empreendedorismo Feminino', loc = 'left')\n",
    "ax.set_ylabel('Índice de Empreendedo - \\nrismo Femino')\n",
    "\n",
    "colors = ['orange','olive']\n",
    "\n",
    "for patch, color in zip(box['boxes'], colors):\n",
    "    patch.set_facecolor(color)"
   ]
  },
  {
   "cell_type": "code",
   "execution_count": 7,
   "id": "16e4d08b",
   "metadata": {},
   "outputs": [
    {
     "data": {
      "text/plain": [
       "'Média em Países desenvolvidos é 59.35925925925926 e a mediana 58.5, em países em desenvolvimento 34.87083333333333, 35.900000000000006 respectivamente'"
      ]
     },
     "execution_count": 7,
     "metadata": {},
     "output_type": "execute_result"
    }
   ],
   "source": [
    "\"Média em Países desenvolvidos é {} e a mediana {}, em países em desenvolvimento {}, {} respectivamente\".format(data[data['Level of development'] == 1]['Women Entrepreneurship Index'].mean(),data[data['Level of development'] == 1]['Women Entrepreneurship Index'].median(),data[data['Level of development'] == 0]['Women Entrepreneurship Index'].mean(),data[data['Level of development'] == 0]['Women Entrepreneurship Index'].median())"
   ]
  },
  {
   "cell_type": "markdown",
   "id": "43ef04b2",
   "metadata": {},
   "source": [
    "## Figura 2: Nível de Desenvolvimento e Taxa de Particiação Feminina no Mercado"
   ]
  },
  {
   "cell_type": "code",
   "execution_count": 8,
   "id": "bcfd1660",
   "metadata": {
    "scrolled": true
   },
   "outputs": [
    {
     "data": {
      "image/png": "[encoded data removed]",
      "text/plain": [
       "<Figure size 432x288 with 1 Axes>"
      ]
     },
     "metadata": {},
     "output_type": "display_data"
    }
   ],
   "source": [
    "fwr_developing = data[data['Level of development'] == 0]['Female Labor Force Participation Rate'].to_list()\n",
    "fwr_developed = data[data['Level of development'] == 1]['Female Labor Force Participation Rate'].to_list()\n",
    "dados = [fwr_developing,fwr_developed]\n",
    "fig, ax = plt.subplots()\n",
    "box = ax.boxplot(dados,labels = ['Em desenvolvimento','Desenvolvidos'], patch_artist= True)\n",
    "ax.set_title('Figura 2: Nível de Desenvolvimento e\\n o Taxa de Participação Feminina no Mercado', loc = 'left')\n",
    "ax.set_ylabel('Índice de Paricipação Femini - \\nna no Mercado de Trabalho')\n",
    "\n",
    "colors = ['orange','olive']\n",
    "\n",
    "for patch, color in zip(box['boxes'], colors):\n",
    "    patch.set_facecolor(color)"
   ]
  },
  {
   "cell_type": "code",
   "execution_count": 9,
   "id": "3fa2d7d8",
   "metadata": {},
   "outputs": [
    {
     "data": {
      "text/plain": [
       "'Média em Países desenvolvidos é 63.095555555555556 e a mediana 64.7, em países em desenvolvimento 53.29125, 60.099999999999994 respectivamente'"
      ]
     },
     "execution_count": 9,
     "metadata": {},
     "output_type": "execute_result"
    }
   ],
   "source": [
    "\"Média em Países desenvolvidos é {} e a mediana {}, em países em desenvolvimento {}, {} respectivamente\".format(data[data['Level of development'] == 1]['Female Labor Force Participation Rate'].mean(),data[data['Level of development'] == 1]['Female Labor Force Participation Rate'].median(),data[data['Level of development'] == 0]['Female Labor Force Participation Rate'].mean(),data[data['Level of development'] == 0]['Female Labor Force Participation Rate'].median())"
   ]
  },
  {
   "cell_type": "markdown",
   "id": "155c39e5",
   "metadata": {},
   "source": [
    "#### Filtrando os países por continente"
   ]
  },
  {
   "cell_type": "code",
   "execution_count": 10,
   "id": "f8bff8b6",
   "metadata": {},
   "outputs": [],
   "source": [
    "AL = ['Argentina','Jamaica','Brazil','Bolivia','Costa Rica','Ecuador','El Salvador','Mexico','Panama','Peru','Uruguay']\n",
    "Eur = ['Austria','Belgium','Finland','France','Germany','Greece','Iceland','Ireland','Italy','Netherlands','Spain','Denmark','Sweden','Sweden','Norway','Switzerland',]\n",
    "east_eur = ['Estonia','Macedonia','Latvia','Lithuania','Slovakia','Slovenia','Croatia','Hungary','Poland','Bosnia and Herzegovina']\n",
    "Asia = ['Japan','Taiwan','China','India','Malaysia','Russia','Saudi Arabia','Turkey','Thailand']\n",
    "Africa = ['Algeria','Egypt','Ghana','Tunisia']\n",
    "Oceania = ['Australia','Singapore']\n",
    "def find_continent(x):\n",
    "    continente = \"\"\n",
    "    continente = 'Ásia' if x in  Asia else continente\n",
    "    continente = 'Amer. Lat & Car.' if x in AL else continente\n",
    "    continente = 'Leste EUR.' if x in east_eur else continente\n",
    "    continente = 'Europa' if x in Eur else continente\n",
    "    continente = 'África' if x in Africa else continente\n",
    "    continente = 'Oceania' if x in Oceania else continente\n",
    "    return continente\n",
    "\n",
    "data['Continente']= data['Country'].map(lambda x:find_continent(x))"
   ]
  },
  {
   "cell_type": "markdown",
   "id": "87ff10de",
   "metadata": {},
   "source": [
    "### Tabela da representatividade amostral"
   ]
  },
  {
   "cell_type": "code",
   "execution_count": 11,
   "id": "ea518faa",
   "metadata": {
    "scrolled": true
   },
   "outputs": [
    {
     "data": {
      "text/html": [
       "<style  type=\"text/css\" >\n",
       "#T_3c551_row0_col0,#T_3c551_row0_col1,#T_3c551_row0_col2,#T_3c551_row0_col3,#T_3c551_row0_col4,#T_3c551_row1_col0,#T_3c551_row1_col1,#T_3c551_row1_col2,#T_3c551_row1_col3,#T_3c551_row1_col4,#T_3c551_row2_col0,#T_3c551_row2_col1,#T_3c551_row2_col2,#T_3c551_row2_col3,#T_3c551_row2_col4,#T_3c551_row3_col0,#T_3c551_row3_col1,#T_3c551_row3_col2,#T_3c551_row3_col3,#T_3c551_row3_col4,#T_3c551_row4_col0,#T_3c551_row4_col1,#T_3c551_row4_col2,#T_3c551_row4_col3,#T_3c551_row4_col4,#T_3c551_row5_col0,#T_3c551_row5_col1,#T_3c551_row5_col2,#T_3c551_row5_col3,#T_3c551_row5_col4{\n",
       "            text-align:  center;\n",
       "        }</style><table id=\"T_3c551_\" ><thead>    <tr>        <th class=\"blank level0\" ></th>        <th class=\"col_heading level0 col0\" >Continente</th>        <th class=\"col_heading level0 col1\" >Países</th>        <th class=\"col_heading level0 col2\" >Proporção</th>        <th class=\"col_heading level0 col3\" >Desenvolvidos</th>        <th class=\"col_heading level0 col4\" >Desenvolvimento</th>    </tr></thead><tbody>\n",
       "                <tr>\n",
       "                        <th id=\"T_3c551_level0_row0\" class=\"row_heading level0 row0\" >0</th>\n",
       "                        <td id=\"T_3c551_row0_col0\" class=\"data row0 col0\" >Europa</td>\n",
       "                        <td id=\"T_3c551_row0_col1\" class=\"data row0 col1\" >15</td>\n",
       "                        <td id=\"T_3c551_row0_col2\" class=\"data row0 col2\" >29.4%</td>\n",
       "                        <td id=\"T_3c551_row0_col3\" class=\"data row0 col3\" >15</td>\n",
       "                        <td id=\"T_3c551_row0_col4\" class=\"data row0 col4\" >0</td>\n",
       "            </tr>\n",
       "            <tr>\n",
       "                        <th id=\"T_3c551_level0_row1\" class=\"row_heading level0 row1\" >1</th>\n",
       "                        <td id=\"T_3c551_row1_col0\" class=\"data row1 col0\" >Leste EUR.</td>\n",
       "                        <td id=\"T_3c551_row1_col1\" class=\"data row1 col1\" >10</td>\n",
       "                        <td id=\"T_3c551_row1_col2\" class=\"data row1 col2\" >19.6%</td>\n",
       "                        <td id=\"T_3c551_row1_col3\" class=\"data row1 col3\" >8</td>\n",
       "                        <td id=\"T_3c551_row1_col4\" class=\"data row1 col4\" >2</td>\n",
       "            </tr>\n",
       "            <tr>\n",
       "                        <th id=\"T_3c551_level0_row2\" class=\"row_heading level0 row2\" >2</th>\n",
       "                        <td id=\"T_3c551_row2_col0\" class=\"data row2 col0\" >Oceania</td>\n",
       "                        <td id=\"T_3c551_row2_col1\" class=\"data row2 col1\" >2</td>\n",
       "                        <td id=\"T_3c551_row2_col2\" class=\"data row2 col2\" >3.9%</td>\n",
       "                        <td id=\"T_3c551_row2_col3\" class=\"data row2 col3\" >2</td>\n",
       "                        <td id=\"T_3c551_row2_col4\" class=\"data row2 col4\" >0</td>\n",
       "            </tr>\n",
       "            <tr>\n",
       "                        <th id=\"T_3c551_level0_row3\" class=\"row_heading level0 row3\" >3</th>\n",
       "                        <td id=\"T_3c551_row3_col0\" class=\"data row3 col0\" >Ásia</td>\n",
       "                        <td id=\"T_3c551_row3_col1\" class=\"data row3 col1\" >9</td>\n",
       "                        <td id=\"T_3c551_row3_col2\" class=\"data row3 col2\" >17.6%</td>\n",
       "                        <td id=\"T_3c551_row3_col3\" class=\"data row3 col3\" >2</td>\n",
       "                        <td id=\"T_3c551_row3_col4\" class=\"data row3 col4\" >7</td>\n",
       "            </tr>\n",
       "            <tr>\n",
       "                        <th id=\"T_3c551_level0_row4\" class=\"row_heading level0 row4\" >4</th>\n",
       "                        <td id=\"T_3c551_row4_col0\" class=\"data row4 col0\" >África</td>\n",
       "                        <td id=\"T_3c551_row4_col1\" class=\"data row4 col1\" >4</td>\n",
       "                        <td id=\"T_3c551_row4_col2\" class=\"data row4 col2\" >7.8%</td>\n",
       "                        <td id=\"T_3c551_row4_col3\" class=\"data row4 col3\" >0</td>\n",
       "                        <td id=\"T_3c551_row4_col4\" class=\"data row4 col4\" >4</td>\n",
       "            </tr>\n",
       "            <tr>\n",
       "                        <th id=\"T_3c551_level0_row5\" class=\"row_heading level0 row5\" >5</th>\n",
       "                        <td id=\"T_3c551_row5_col0\" class=\"data row5 col0\" >AL. & C.</td>\n",
       "                        <td id=\"T_3c551_row5_col1\" class=\"data row5 col1\" >11</td>\n",
       "                        <td id=\"T_3c551_row5_col2\" class=\"data row5 col2\" >21.6%</td>\n",
       "                        <td id=\"T_3c551_row5_col3\" class=\"data row5 col3\" >0</td>\n",
       "                        <td id=\"T_3c551_row5_col4\" class=\"data row5 col4\" >11</td>\n",
       "            </tr>\n",
       "    </tbody></table>"
      ],
      "text/plain": [
       "<pandas.io.formats.style.Styler at 0x1c35df81460>"
      ]
     },
     "execution_count": 11,
     "metadata": {},
     "output_type": "execute_result"
    }
   ],
   "source": [
    "list_continentes = data['Continente'].drop_duplicates().to_list()\n",
    "list_países = [len(data[data['Continente'] == c]) for c in list_continentes]\n",
    "list_proporção = [\"{:.1%}\".format((len(data[data['Continente'] == c]) / len(data))) for c in list_continentes]\n",
    "list_desenvolvidos = [len(data[(data['Continente'] == c) & (data['Level of development'] == 1)]) for c in list_continentes]\n",
    "list_desenvolvimento = [len(data[(data['Continente'] == c) & (data['Level of development'] == 0)]) for c in list_continentes]\n",
    "list_continentes[5] = 'AL. & C.'\n",
    "dic = {'Continente':list_continentes,'Países':list_países,'Proporção':list_proporção,'Desenvolvidos':list_desenvolvidos,'Desenvolvimento':list_desenvolvimento}\n",
    "df = pd.DataFrame(data = dic)\n",
    "df.style.set_properties(**{'text-align': 'center'})\n"
   ]
  },
  {
   "cell_type": "markdown",
   "id": "6aaf49c5",
   "metadata": {},
   "source": [
    "## Figura 3: Performance dos índices nos continentes"
   ]
  },
  {
   "cell_type": "code",
   "execution_count": 12,
   "id": "ac9c148a",
   "metadata": {
    "scrolled": true
   },
   "outputs": [
    {
     "data": {
      "text/plain": [
       "<matplotlib.legend.Legend at 0x1c35e1cc910>"
      ]
     },
     "execution_count": 12,
     "metadata": {},
     "output_type": "execute_result"
    },
    {
     "data": {
      "image/png": "[encoded data removed]",
      "text/plain": [
       "<Figure size 432x288 with 1 Axes>"
      ]
     },
     "metadata": {},
     "output_type": "display_data"
    }
   ],
   "source": [
    "d = data.drop('No', axis = 1).groupby(['Continente']).mean()\n",
    "fig, ax = plt.subplots()\n",
    "w = 0.08\n",
    "c1 = 'olive'\n",
    "c2 = 'orange'\n",
    "a = 0.6\n",
    "ax.bar(0.5,d.loc['Amer. Lat & Car.']['Women Entrepreneurship Index'],width = w, color = c1,alpha = a,label = 'Índice de Empreendedorismo Feminino')\n",
    "ax.bar(0.6,d.loc['Amer. Lat & Car.']['Entrepreneurship Index'],width = w,color = c2,alpha = a, label = 'Índice de Empreendedorismo')\n",
    "\n",
    "ax.bar(0.8,d.loc['Europa']['Women Entrepreneurship Index'],width = w, color = c1,alpha = a)\n",
    "ax.bar(0.9,d.loc['Europa']['Entrepreneurship Index'],width = w,color = c2,alpha = a)\n",
    "\n",
    "ax.bar(1.1,d.loc['Leste EUR.']['Women Entrepreneurship Index'],width = w, color = c1,alpha = a)\n",
    "ax.bar(1.2,d.loc['Leste EUR.']['Entrepreneurship Index'],width = w,color = c2,alpha = a)\n",
    "\n",
    "ax.bar(1.4,d.loc['Oceania']['Women Entrepreneurship Index'],width = w, color = c1,alpha = a)\n",
    "ax.bar(1.5,d.loc['Oceania']['Entrepreneurship Index'],width = w,color = c2,alpha = a)\n",
    "\n",
    "ax.bar(1.7,d.loc['África']['Women Entrepreneurship Index'],width = w, color = c1,alpha = a)\n",
    "ax.bar(1.8,d.loc['África']['Entrepreneurship Index'],width = w,color = c2,alpha = a)\n",
    "\n",
    "ax.bar(2,d.loc['Ásia']['Women Entrepreneurship Index'],width = w, color = c1,alpha = a)\n",
    "ax.bar(2.1,d.loc['Ásia']['Entrepreneurship Index'],width = w,color = c2,alpha = a)\n",
    "\n",
    "ax.plot([0.55,0.85,1.15,1.45,1.75,2.05],d['Female Labor Force Participation Rate'].to_list(), color = 'red',alpha = a-0.2, label = 'Taxa de Participação Feminina no mercado')\n",
    "\n",
    "ax.set_xticks([0.55,0.85,1.15,1.45,1.75,2.05])\n",
    "ax.set_xticklabels(['AL e C.','Europa','Leste \\n EUR.','Oceania','África','Ásia'],fontweight = 'bold')\n",
    "ax.set_ylim(0,90)\n",
    "ax.set_ylabel(\"Índices\")\n",
    "ax.set_title('Figura 3: Performance dos índices nos conti - \\nnentes', loc = 'left')\n",
    "plt.legend(frameon = False,loc = 'upper left')"
   ]
  },
  {
   "cell_type": "code",
   "execution_count": 13,
   "id": "23ce0d94",
   "metadata": {},
   "outputs": [
    {
     "data": {
      "text/html": [
       "<div>\n",
       "<style scoped>\n",
       "    .dataframe tbody tr th:only-of-type {\n",
       "        vertical-align: middle;\n",
       "    }\n",
       "\n",
       "    .dataframe tbody tr th {\n",
       "        vertical-align: top;\n",
       "    }\n",
       "\n",
       "    .dataframe thead th {\n",
       "        text-align: right;\n",
       "    }\n",
       "</style>\n",
       "<table border=\"1\" class=\"dataframe\">\n",
       "  <thead>\n",
       "    <tr style=\"text-align: right;\">\n",
       "      <th></th>\n",
       "      <th></th>\n",
       "      <th>No</th>\n",
       "      <th>European Union Membership</th>\n",
       "      <th>Currency</th>\n",
       "      <th>Women Entrepreneurship Index</th>\n",
       "      <th>Entrepreneurship Index</th>\n",
       "      <th>Inflation rate</th>\n",
       "      <th>Female Labor Force Participation Rate</th>\n",
       "    </tr>\n",
       "    <tr>\n",
       "      <th>Continente</th>\n",
       "      <th>Level of development</th>\n",
       "      <th></th>\n",
       "      <th></th>\n",
       "      <th></th>\n",
       "      <th></th>\n",
       "      <th></th>\n",
       "      <th></th>\n",
       "      <th></th>\n",
       "    </tr>\n",
       "  </thead>\n",
       "  <tbody>\n",
       "    <tr>\n",
       "      <th>Amer. Lat &amp; Car.</th>\n",
       "      <th>0</th>\n",
       "      <td>16.0</td>\n",
       "      <td>0.0</td>\n",
       "      <td>0.0</td>\n",
       "      <td>36.10</td>\n",
       "      <td>30.70</td>\n",
       "      <td>3.500</td>\n",
       "      <td>59.400</td>\n",
       "    </tr>\n",
       "    <tr>\n",
       "      <th>Europa</th>\n",
       "      <th>1</th>\n",
       "      <td>25.0</td>\n",
       "      <td>1.0</td>\n",
       "      <td>1.0</td>\n",
       "      <td>64.30</td>\n",
       "      <td>65.70</td>\n",
       "      <td>0.000</td>\n",
       "      <td>67.700</td>\n",
       "    </tr>\n",
       "    <tr>\n",
       "      <th rowspan=\"2\" valign=\"top\">Leste EUR.</th>\n",
       "      <th>0</th>\n",
       "      <td>22.0</td>\n",
       "      <td>0.0</td>\n",
       "      <td>0.0</td>\n",
       "      <td>36.40</td>\n",
       "      <td>33.00</td>\n",
       "      <td>1.350</td>\n",
       "      <td>62.450</td>\n",
       "    </tr>\n",
       "    <tr>\n",
       "      <th>1</th>\n",
       "      <td>34.5</td>\n",
       "      <td>1.0</td>\n",
       "      <td>1.0</td>\n",
       "      <td>55.65</td>\n",
       "      <td>50.25</td>\n",
       "      <td>-0.500</td>\n",
       "      <td>60.700</td>\n",
       "    </tr>\n",
       "    <tr>\n",
       "      <th>Oceania</th>\n",
       "      <th>1</th>\n",
       "      <td>26.0</td>\n",
       "      <td>0.0</td>\n",
       "      <td>0.0</td>\n",
       "      <td>67.30</td>\n",
       "      <td>72.85</td>\n",
       "      <td>0.500</td>\n",
       "      <td>62.990</td>\n",
       "    </tr>\n",
       "    <tr>\n",
       "      <th>África</th>\n",
       "      <th>0</th>\n",
       "      <td>18.0</td>\n",
       "      <td>0.0</td>\n",
       "      <td>0.0</td>\n",
       "      <td>27.55</td>\n",
       "      <td>29.15</td>\n",
       "      <td>7.900</td>\n",
       "      <td>42.995</td>\n",
       "    </tr>\n",
       "    <tr>\n",
       "      <th rowspan=\"2\" valign=\"top\">Ásia</th>\n",
       "      <th>0</th>\n",
       "      <td>47.0</td>\n",
       "      <td>0.0</td>\n",
       "      <td>0.0</td>\n",
       "      <td>37.00</td>\n",
       "      <td>36.40</td>\n",
       "      <td>2.300</td>\n",
       "      <td>61.100</td>\n",
       "    </tr>\n",
       "    <tr>\n",
       "      <th>1</th>\n",
       "      <td>44.0</td>\n",
       "      <td>0.0</td>\n",
       "      <td>0.0</td>\n",
       "      <td>46.70</td>\n",
       "      <td>59.30</td>\n",
       "      <td>0.095</td>\n",
       "      <td>59.850</td>\n",
       "    </tr>\n",
       "  </tbody>\n",
       "</table>\n",
       "</div>"
      ],
      "text/plain": [
       "                                         No  European Union Membership  \\\n",
       "Continente       Level of development                                    \n",
       "Amer. Lat & Car. 0                     16.0                        0.0   \n",
       "Europa           1                     25.0                        1.0   \n",
       "Leste EUR.       0                     22.0                        0.0   \n",
       "                 1                     34.5                        1.0   \n",
       "Oceania          1                     26.0                        0.0   \n",
       "África           0                     18.0                        0.0   \n",
       "Ásia             0                     47.0                        0.0   \n",
       "                 1                     44.0                        0.0   \n",
       "\n",
       "                                       Currency  Women Entrepreneurship Index  \\\n",
       "Continente       Level of development                                           \n",
       "Amer. Lat & Car. 0                          0.0                         36.10   \n",
       "Europa           1                          1.0                         64.30   \n",
       "Leste EUR.       0                          0.0                         36.40   \n",
       "                 1                          1.0                         55.65   \n",
       "Oceania          1                          0.0                         67.30   \n",
       "África           0                          0.0                         27.55   \n",
       "Ásia             0                          0.0                         37.00   \n",
       "                 1                          0.0                         46.70   \n",
       "\n",
       "                                       Entrepreneurship Index  Inflation rate  \\\n",
       "Continente       Level of development                                           \n",
       "Amer. Lat & Car. 0                                      30.70           3.500   \n",
       "Europa           1                                      65.70           0.000   \n",
       "Leste EUR.       0                                      33.00           1.350   \n",
       "                 1                                      50.25          -0.500   \n",
       "Oceania          1                                      72.85           0.500   \n",
       "África           0                                      29.15           7.900   \n",
       "Ásia             0                                      36.40           2.300   \n",
       "                 1                                      59.30           0.095   \n",
       "\n",
       "                                       Female Labor Force Participation Rate  \n",
       "Continente       Level of development                                         \n",
       "Amer. Lat & Car. 0                                                    59.400  \n",
       "Europa           1                                                    67.700  \n",
       "Leste EUR.       0                                                    62.450  \n",
       "                 1                                                    60.700  \n",
       "Oceania          1                                                    62.990  \n",
       "África           0                                                    42.995  \n",
       "Ásia             0                                                    61.100  \n",
       "                 1                                                    59.850  "
      ]
     },
     "execution_count": 13,
     "metadata": {},
     "output_type": "execute_result"
    }
   ],
   "source": [
    "data.groupby(['Continente','Level of development']).median()"
   ]
  },
  {
   "cell_type": "code",
   "execution_count": 14,
   "id": "7198882c",
   "metadata": {
    "scrolled": true
   },
   "outputs": [
    {
     "data": {
      "text/plain": [
       "No                                        6.385696\n",
       "European Union Membership                      inf\n",
       "Currency                                       inf\n",
       "Women Entrepreneurship Index             70.226099\n",
       "Entrepreneurship Index                   77.744577\n",
       "Inflation rate                          -99.743310\n",
       "Female Labor Force Participation Rate    18.397590\n",
       "dtype: float64"
      ]
     },
     "execution_count": 14,
     "metadata": {},
     "output_type": "execute_result"
    }
   ],
   "source": [
    "(data.groupby('Level of development').mean().loc[1]/data.groupby('Level of development').mean().loc[0]-1)*100"
   ]
  },
  {
   "cell_type": "markdown",
   "id": "546beb4f",
   "metadata": {},
   "source": [
    "## Figura 4: Taxa de inflação X Continentes"
   ]
  },
  {
   "cell_type": "code",
   "execution_count": 15,
   "id": "3fad0047",
   "metadata": {},
   "outputs": [
    {
     "data": {
      "text/plain": [
       "<matplotlib.legend.Legend at 0x1c35e234c10>"
      ]
     },
     "execution_count": 15,
     "metadata": {},
     "output_type": "execute_result"
    },
    {
     "data": {
      "image/png": "[encoded data removed]",
      "text/plain": [
       "<Figure size 432x288 with 1 Axes>"
      ]
     },
     "metadata": {},
     "output_type": "display_data"
    }
   ],
   "source": [
    "fig, ax = plt.subplots()\n",
    "ax.plot([1,2,3,4,5,6,7,8],data.groupby(['Continente','Level of development']).mean()['Inflation rate'].to_list(), ls = '--',label = 'Média',c = 'black')\n",
    "ax.plot([1,2,3,4,5,6,7,8],data.groupby(['Continente','Level of development']).median()['Inflation rate'].to_list(), ls = 'dotted',label = 'Mediana', c = 'black')\n",
    "\n",
    "ax.set_xticks([1,2,3,4,5,6,7,8])\n",
    "ax.set_xticklabels(['AL. & C.', 'Europa','L. EUR¹','L. EUR.','Oceania','África','Ásia¹','Ásia'])\n",
    "ax.axhline(0)\n",
    "ax.set_ylabel('Taxa de Inflação (%)')\n",
    "ax.set_title('Figura 4: Taxa de Inflação X Continentes', loc ='left')\n",
    "ax.text(-0.25, -2.5,\"¹ Conjunto com os países Em desenvolvimento de um determinado continente\")\n",
    "plt.legend()"
   ]
  },
  {
   "cell_type": "code",
   "execution_count": null,
   "id": "3c80e795",
   "metadata": {},
   "outputs": [],
   "source": []
  }
 ],
 "metadata": {
  "kernelspec": {
   "display_name": "Python 3",
   "language": "python",
   "name": "python3"
  },
  "language_info": {
   "codemirror_mode": {
    "name": "ipython",
    "version": 3
   },
   "file_extension": ".py",
   "mimetype": "text/x-python",
   "name": "python",
   "nbconvert_exporter": "python",
   "pygments_lexer": "ipython3",
   "version": "3.9.4"
  }
 },
 "nbformat": 4,
 "nbformat_minor": 5
}
